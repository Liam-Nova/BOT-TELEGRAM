{
  "cells": [
    {
      "cell_type": "markdown",
      "metadata": {
        "id": "view-in-github",
        "colab_type": "text"
      },
      "source": [
        "<a href=\"https://colab.research.google.com/github/Liam-Nova/BOT-TELEGRAM/blob/main/Copia_de_BOT_TELEGRAM.ipynb\" target=\"_parent\"><img src=\"https://colab.research.google.com/assets/colab-badge.svg\" alt=\"Open In Colab\"/></a>"
      ]
    },
    {
      "cell_type": "markdown",
      "source": [
        "# Librerias"
      ],
      "metadata": {
        "id": "AOKGRVKisbaD"
      }
    },
    {
      "cell_type": "code",
      "execution_count": null,
      "metadata": {
        "colab": {
          "base_uri": "https://localhost:8080/"
        },
        "collapsed": true,
        "id": "mr0pVba-J4C6",
        "outputId": "18c776bf-1277-46ff-8207-deb47404b0f9"
      },
      "outputs": [
        {
          "output_type": "stream",
          "name": "stdout",
          "text": [
            "Requirement already satisfied: torch in /usr/local/lib/python3.11/dist-packages (2.5.1+cu124)\n",
            "Requirement already satisfied: filelock in /usr/local/lib/python3.11/dist-packages (from torch) (3.17.0)\n",
            "Requirement already satisfied: typing-extensions>=4.8.0 in /usr/local/lib/python3.11/dist-packages (from torch) (4.12.2)\n",
            "Requirement already satisfied: networkx in /usr/local/lib/python3.11/dist-packages (from torch) (3.4.2)\n",
            "Requirement already satisfied: jinja2 in /usr/local/lib/python3.11/dist-packages (from torch) (3.1.5)\n",
            "Requirement already satisfied: fsspec in /usr/local/lib/python3.11/dist-packages (from torch) (2024.10.0)\n",
            "Requirement already satisfied: nvidia-cuda-nvrtc-cu12==12.4.127 in /usr/local/lib/python3.11/dist-packages (from torch) (12.4.127)\n",
            "Requirement already satisfied: nvidia-cuda-runtime-cu12==12.4.127 in /usr/local/lib/python3.11/dist-packages (from torch) (12.4.127)\n",
            "Requirement already satisfied: nvidia-cuda-cupti-cu12==12.4.127 in /usr/local/lib/python3.11/dist-packages (from torch) (12.4.127)\n",
            "Requirement already satisfied: nvidia-cudnn-cu12==9.1.0.70 in /usr/local/lib/python3.11/dist-packages (from torch) (9.1.0.70)\n",
            "Requirement already satisfied: nvidia-cublas-cu12==12.4.5.8 in /usr/local/lib/python3.11/dist-packages (from torch) (12.4.5.8)\n",
            "Requirement already satisfied: nvidia-cufft-cu12==11.2.1.3 in /usr/local/lib/python3.11/dist-packages (from torch) (11.2.1.3)\n",
            "Requirement already satisfied: nvidia-curand-cu12==10.3.5.147 in /usr/local/lib/python3.11/dist-packages (from torch) (10.3.5.147)\n",
            "Requirement already satisfied: nvidia-cusolver-cu12==11.6.1.9 in /usr/local/lib/python3.11/dist-packages (from torch) (11.6.1.9)\n",
            "Requirement already satisfied: nvidia-cusparse-cu12==12.3.1.170 in /usr/local/lib/python3.11/dist-packages (from torch) (12.3.1.170)\n",
            "Requirement already satisfied: nvidia-nccl-cu12==2.21.5 in /usr/local/lib/python3.11/dist-packages (from torch) (2.21.5)\n",
            "Requirement already satisfied: nvidia-nvtx-cu12==12.4.127 in /usr/local/lib/python3.11/dist-packages (from torch) (12.4.127)\n",
            "Requirement already satisfied: nvidia-nvjitlink-cu12==12.4.127 in /usr/local/lib/python3.11/dist-packages (from torch) (12.4.127)\n",
            "Requirement already satisfied: triton==3.1.0 in /usr/local/lib/python3.11/dist-packages (from torch) (3.1.0)\n",
            "Requirement already satisfied: sympy==1.13.1 in /usr/local/lib/python3.11/dist-packages (from torch) (1.13.1)\n",
            "Requirement already satisfied: mpmath<1.4,>=1.1.0 in /usr/local/lib/python3.11/dist-packages (from sympy==1.13.1->torch) (1.3.0)\n",
            "Requirement already satisfied: MarkupSafe>=2.0 in /usr/local/lib/python3.11/dist-packages (from jinja2->torch) (3.0.2)\n",
            "Requirement already satisfied: transformers in /usr/local/lib/python3.11/dist-packages (4.48.2)\n",
            "Requirement already satisfied: filelock in /usr/local/lib/python3.11/dist-packages (from transformers) (3.17.0)\n",
            "Requirement already satisfied: huggingface-hub<1.0,>=0.24.0 in /usr/local/lib/python3.11/dist-packages (from transformers) (0.28.1)\n",
            "Requirement already satisfied: numpy>=1.17 in /usr/local/lib/python3.11/dist-packages (from transformers) (1.26.4)\n",
            "Requirement already satisfied: packaging>=20.0 in /usr/local/lib/python3.11/dist-packages (from transformers) (24.2)\n",
            "Requirement already satisfied: pyyaml>=5.1 in /usr/local/lib/python3.11/dist-packages (from transformers) (6.0.2)\n",
            "Requirement already satisfied: regex!=2019.12.17 in /usr/local/lib/python3.11/dist-packages (from transformers) (2024.11.6)\n",
            "Requirement already satisfied: requests in /usr/local/lib/python3.11/dist-packages (from transformers) (2.32.3)\n",
            "Requirement already satisfied: tokenizers<0.22,>=0.21 in /usr/local/lib/python3.11/dist-packages (from transformers) (0.21.0)\n",
            "Requirement already satisfied: safetensors>=0.4.1 in /usr/local/lib/python3.11/dist-packages (from transformers) (0.5.2)\n",
            "Requirement already satisfied: tqdm>=4.27 in /usr/local/lib/python3.11/dist-packages (from transformers) (4.67.1)\n",
            "Requirement already satisfied: fsspec>=2023.5.0 in /usr/local/lib/python3.11/dist-packages (from huggingface-hub<1.0,>=0.24.0->transformers) (2024.10.0)\n",
            "Requirement already satisfied: typing-extensions>=3.7.4.3 in /usr/local/lib/python3.11/dist-packages (from huggingface-hub<1.0,>=0.24.0->transformers) (4.12.2)\n",
            "Requirement already satisfied: charset-normalizer<4,>=2 in /usr/local/lib/python3.11/dist-packages (from requests->transformers) (3.4.1)\n",
            "Requirement already satisfied: idna<4,>=2.5 in /usr/local/lib/python3.11/dist-packages (from requests->transformers) (3.10)\n",
            "Requirement already satisfied: urllib3<3,>=1.21.1 in /usr/local/lib/python3.11/dist-packages (from requests->transformers) (2.3.0)\n",
            "Requirement already satisfied: certifi>=2017.4.17 in /usr/local/lib/python3.11/dist-packages (from requests->transformers) (2025.1.31)\n",
            "Requirement already satisfied: openai in /usr/local/lib/python3.11/dist-packages (1.61.1)\n",
            "Requirement already satisfied: anyio<5,>=3.5.0 in /usr/local/lib/python3.11/dist-packages (from openai) (3.7.1)\n",
            "Requirement already satisfied: distro<2,>=1.7.0 in /usr/local/lib/python3.11/dist-packages (from openai) (1.9.0)\n",
            "Requirement already satisfied: httpx<1,>=0.23.0 in /usr/local/lib/python3.11/dist-packages (from openai) (0.28.1)\n",
            "Requirement already satisfied: jiter<1,>=0.4.0 in /usr/local/lib/python3.11/dist-packages (from openai) (0.8.2)\n",
            "Requirement already satisfied: pydantic<3,>=1.9.0 in /usr/local/lib/python3.11/dist-packages (from openai) (2.10.6)\n",
            "Requirement already satisfied: sniffio in /usr/local/lib/python3.11/dist-packages (from openai) (1.3.1)\n",
            "Requirement already satisfied: tqdm>4 in /usr/local/lib/python3.11/dist-packages (from openai) (4.67.1)\n",
            "Requirement already satisfied: typing-extensions<5,>=4.11 in /usr/local/lib/python3.11/dist-packages (from openai) (4.12.2)\n",
            "Requirement already satisfied: idna>=2.8 in /usr/local/lib/python3.11/dist-packages (from anyio<5,>=3.5.0->openai) (3.10)\n",
            "Requirement already satisfied: certifi in /usr/local/lib/python3.11/dist-packages (from httpx<1,>=0.23.0->openai) (2025.1.31)\n",
            "Requirement already satisfied: httpcore==1.* in /usr/local/lib/python3.11/dist-packages (from httpx<1,>=0.23.0->openai) (1.0.7)\n",
            "Requirement already satisfied: h11<0.15,>=0.13 in /usr/local/lib/python3.11/dist-packages (from httpcore==1.*->httpx<1,>=0.23.0->openai) (0.14.0)\n",
            "Requirement already satisfied: annotated-types>=0.6.0 in /usr/local/lib/python3.11/dist-packages (from pydantic<3,>=1.9.0->openai) (0.7.0)\n",
            "Requirement already satisfied: pydantic-core==2.27.2 in /usr/local/lib/python3.11/dist-packages (from pydantic<3,>=1.9.0->openai) (2.27.2)\n",
            "Requirement already satisfied: timm in /usr/local/lib/python3.11/dist-packages (1.0.14)\n",
            "Requirement already satisfied: torch in /usr/local/lib/python3.11/dist-packages (from timm) (2.5.1+cu124)\n",
            "Requirement already satisfied: torchvision in /usr/local/lib/python3.11/dist-packages (from timm) (0.20.1+cu124)\n",
            "Requirement already satisfied: pyyaml in /usr/local/lib/python3.11/dist-packages (from timm) (6.0.2)\n",
            "Requirement already satisfied: huggingface_hub in /usr/local/lib/python3.11/dist-packages (from timm) (0.28.1)\n",
            "Requirement already satisfied: safetensors in /usr/local/lib/python3.11/dist-packages (from timm) (0.5.2)\n",
            "Requirement already satisfied: filelock in /usr/local/lib/python3.11/dist-packages (from huggingface_hub->timm) (3.17.0)\n",
            "Requirement already satisfied: fsspec>=2023.5.0 in /usr/local/lib/python3.11/dist-packages (from huggingface_hub->timm) (2024.10.0)\n",
            "Requirement already satisfied: packaging>=20.9 in /usr/local/lib/python3.11/dist-packages (from huggingface_hub->timm) (24.2)\n",
            "Requirement already satisfied: requests in /usr/local/lib/python3.11/dist-packages (from huggingface_hub->timm) (2.32.3)\n",
            "Requirement already satisfied: tqdm>=4.42.1 in /usr/local/lib/python3.11/dist-packages (from huggingface_hub->timm) (4.67.1)\n",
            "Requirement already satisfied: typing-extensions>=3.7.4.3 in /usr/local/lib/python3.11/dist-packages (from huggingface_hub->timm) (4.12.2)\n",
            "Requirement already satisfied: networkx in /usr/local/lib/python3.11/dist-packages (from torch->timm) (3.4.2)\n",
            "Requirement already satisfied: jinja2 in /usr/local/lib/python3.11/dist-packages (from torch->timm) (3.1.5)\n",
            "Requirement already satisfied: nvidia-cuda-nvrtc-cu12==12.4.127 in /usr/local/lib/python3.11/dist-packages (from torch->timm) (12.4.127)\n",
            "Requirement already satisfied: nvidia-cuda-runtime-cu12==12.4.127 in /usr/local/lib/python3.11/dist-packages (from torch->timm) (12.4.127)\n",
            "Requirement already satisfied: nvidia-cuda-cupti-cu12==12.4.127 in /usr/local/lib/python3.11/dist-packages (from torch->timm) (12.4.127)\n",
            "Requirement already satisfied: nvidia-cudnn-cu12==9.1.0.70 in /usr/local/lib/python3.11/dist-packages (from torch->timm) (9.1.0.70)\n",
            "Requirement already satisfied: nvidia-cublas-cu12==12.4.5.8 in /usr/local/lib/python3.11/dist-packages (from torch->timm) (12.4.5.8)\n",
            "Requirement already satisfied: nvidia-cufft-cu12==11.2.1.3 in /usr/local/lib/python3.11/dist-packages (from torch->timm) (11.2.1.3)\n",
            "Requirement already satisfied: nvidia-curand-cu12==10.3.5.147 in /usr/local/lib/python3.11/dist-packages (from torch->timm) (10.3.5.147)\n",
            "Requirement already satisfied: nvidia-cusolver-cu12==11.6.1.9 in /usr/local/lib/python3.11/dist-packages (from torch->timm) (11.6.1.9)\n",
            "Requirement already satisfied: nvidia-cusparse-cu12==12.3.1.170 in /usr/local/lib/python3.11/dist-packages (from torch->timm) (12.3.1.170)\n",
            "Requirement already satisfied: nvidia-nccl-cu12==2.21.5 in /usr/local/lib/python3.11/dist-packages (from torch->timm) (2.21.5)\n",
            "Requirement already satisfied: nvidia-nvtx-cu12==12.4.127 in /usr/local/lib/python3.11/dist-packages (from torch->timm) (12.4.127)\n",
            "Requirement already satisfied: nvidia-nvjitlink-cu12==12.4.127 in /usr/local/lib/python3.11/dist-packages (from torch->timm) (12.4.127)\n",
            "Requirement already satisfied: triton==3.1.0 in /usr/local/lib/python3.11/dist-packages (from torch->timm) (3.1.0)\n",
            "Requirement already satisfied: sympy==1.13.1 in /usr/local/lib/python3.11/dist-packages (from torch->timm) (1.13.1)\n",
            "Requirement already satisfied: mpmath<1.4,>=1.1.0 in /usr/local/lib/python3.11/dist-packages (from sympy==1.13.1->torch->timm) (1.3.0)\n",
            "Requirement already satisfied: numpy in /usr/local/lib/python3.11/dist-packages (from torchvision->timm) (1.26.4)\n",
            "Requirement already satisfied: pillow!=8.3.*,>=5.3.0 in /usr/local/lib/python3.11/dist-packages (from torchvision->timm) (11.1.0)\n",
            "Requirement already satisfied: MarkupSafe>=2.0 in /usr/local/lib/python3.11/dist-packages (from jinja2->torch->timm) (3.0.2)\n",
            "Requirement already satisfied: charset-normalizer<4,>=2 in /usr/local/lib/python3.11/dist-packages (from requests->huggingface_hub->timm) (3.4.1)\n",
            "Requirement already satisfied: idna<4,>=2.5 in /usr/local/lib/python3.11/dist-packages (from requests->huggingface_hub->timm) (3.10)\n",
            "Requirement already satisfied: urllib3<3,>=1.21.1 in /usr/local/lib/python3.11/dist-packages (from requests->huggingface_hub->timm) (2.3.0)\n",
            "Requirement already satisfied: certifi>=2017.4.17 in /usr/local/lib/python3.11/dist-packages (from requests->huggingface_hub->timm) (2025.1.31)\n"
          ]
        }
      ],
      "source": [
        "!pip install torch\n",
        "!pip install transformers\n",
        "!pip install openai\n",
        "!pip install timm\n",
        "\n",
        "import requests\n",
        "from transformers import pipeline\n",
        "from openai import OpenAI\n",
        "from urllib.parse import urlparse\n",
        "import openai\n",
        "\n",
        "import re\n",
        "from bs4 import BeautifulSoup\n",
        "\n",
        "# https://www.semana.com/politica/,https://www.noticiascaracol.com/politica/"
      ]
    },
    {
      "cell_type": "code",
      "execution_count": null,
      "metadata": {
        "colab": {
          "base_uri": "https://localhost:8080/"
        },
        "id": "-m8BaJzTvKJp",
        "outputId": "eb9d7022-e000-46bb-f1a3-7653b0936d83"
      },
      "outputs": [
        {
          "output_type": "stream",
          "name": "stderr",
          "text": [
            "/usr/local/lib/python3.11/dist-packages/huggingface_hub/utils/_auth.py:94: UserWarning: \n",
            "The secret `HF_TOKEN` does not exist in your Colab secrets.\n",
            "To authenticate with the Hugging Face Hub, create a token in your settings tab (https://huggingface.co/settings/tokens), set it as secret in your Google Colab and restart your session.\n",
            "You will be able to reuse this secret in all of your notebooks.\n",
            "Please note that authentication is recommended but still optional to access public models or datasets.\n",
            "  warnings.warn(\n",
            "Device set to use cpu\n"
          ]
        }
      ],
      "source": [
        "# Inicializar el pipeline de Hugging Face para resumen\n",
        "pipe = pipeline(\"summarization\", model=\"facebook/bart-large-cnn\")"
      ]
    },
    {
      "cell_type": "markdown",
      "source": [
        "# Funciones"
      ],
      "metadata": {
        "id": "-fzDFhCOsokq"
      }
    },
    {
      "cell_type": "markdown",
      "source": [
        "## Conectar a telegram, descarga de mensajes a colab y mensaje de bienvenida\n",
        "\n",
        "\n"
      ],
      "metadata": {
        "id": "L0sSBLITstOW"
      }
    },
    {
      "cell_type": "code",
      "source": [
        "\n",
        "# Función para enviar mensajes\n",
        "def send_messages(chat_id, text):\n",
        "    url = f\"{URL_BASE}sendMessage\"\n",
        "    params = {\"chat_id\": chat_id, \"text\": text}\n",
        "    response = requests.get(url, params=params)\n",
        "    return response\n",
        "\n",
        "# Función para obtener actualizaciones del bot\n",
        "def get_updates(offset=None):\n",
        "    url = f\"{URL_BASE}getUpdates\"\n",
        "    params = {\"timeout\": 100, \"offset\": offset}\n",
        "    response = requests.get(url, params=params)\n",
        "    return response.json()[\"result\"]\n",
        "\n",
        "# Función para enviar el mensaje de bienvenida\n",
        "def send_welcome_message(chat_id):\n",
        "    welcome_message = (\n",
        "        \"¡Hola! 👋 Bienvenido al Bot de Resumenes de Noticias 📰\\n\\n\"\n",
        "        \"📌 **¿Qué puede hacer este bot?**\\n\"\n",
        "        \"Este bot te permite hacer resúmenes de artículos de noticias usando dos opciones:\\n\"\n",
        "        \"1. **Resumen con Hugging Face (BART)**: Utiliza el modelo BART de Hugging Face para generar resúmenes de las noticias.\\n\"\n",
        "        \"2. **Resumen con OpenAI (GPT)**: Usa OpenAI para generar resúmenes de manera más interactiva y cómica.\\n\\n\"\n",
        "        \"📝 **¿Cómo funciona?**\\n\"\n",
        "        \"Envía las URLs de las noticias separadas por comas y luego selecciona una de las opciones para obtener un resumen.\\n\"\n",
        "        \"¡Vamos a comenzar! 🚀\"\n",
        "    )\n",
        "    send_messages(chat_id, welcome_message)\n",
        "\n",
        "\n"
      ],
      "metadata": {
        "id": "b8EiNDwTs_Hl"
      },
      "execution_count": null,
      "outputs": []
    },
    {
      "cell_type": "markdown",
      "source": [
        " ## Limpian el contenido de las páginas"
      ],
      "metadata": {
        "id": "3zK0JfXMtBNe"
      }
    },
    {
      "cell_type": "code",
      "source": [
        "def get_text_html(url): # extrae el texto de una página web\n",
        "    try:\n",
        "        response = requests.get(url, timeout=10)  # Agregar timeout para evitar bloqueos\n",
        "        response.raise_for_status()\n",
        "        soup = BeautifulSoup(response.text, 'html.parser')\n",
        "        return soup.get_text()\n",
        "    except requests.exceptions.RequestException as e:\n",
        "        return f\"Error al obtener la URL: {e}\"\n",
        "\n",
        "# Función para limpiar texto\n",
        "def text_clean(text):\n",
        "    text = re.sub(r'@[A-Za-z0-9_]+', ' ', text)\n",
        "    text = re.sub(r'https?://\\S+|www\\.\\S+', ' ', text)\n",
        "    text = re.sub(r'#', ' ', text)\n",
        "    text = re.sub(r\"[^A-Za-zÁÉÍÓÚáéíóúÜüÑñ0-9,\\.\\s'¿?¡!:\\-]\", ' ', text)\n",
        "    text = re.sub(r'(?<=[a-záéíóúüñ])([A-ZÁÉÍÓÚÜÑ])', r' \\1', text)\n",
        "    text = re.sub(r'\\s+', ' ', text).strip()\n",
        "    return text\n",
        "\n",
        "# Función para limpiar noticias\n",
        "def clean_news_text(text):\n",
        "    stop_phrases = [\n",
        "        r'publicidad', r'suscribirse', r'iniciar sesión', r'síguenos.*', r'últimas noticias',\n",
        "        r'tendencias', r'activar', r'notificaciones', r'facebook|twitter|instagram|youtube'\n",
        "    ]\n",
        "    for phrase in stop_phrases:\n",
        "        text = re.sub(phrase, '', text, flags=re.IGNORECASE)\n",
        "    text = re.sub(r'\\s+', ' ', text).strip()\n",
        "    content = [f\"'{line.strip()}'\" for line in re.split(r'[.?!]', text) if len(line.strip()) > 50]\n",
        "    return content"
      ],
      "metadata": {
        "id": "T7wao0jDtHc0"
      },
      "execution_count": null,
      "outputs": []
    },
    {
      "cell_type": "markdown",
      "source": [
        "## Validacion y primer tratamiento de las urls que es hacer el diccionario"
      ],
      "metadata": {
        "id": "7T8FSuH2tJgl"
      }
    },
    {
      "cell_type": "code",
      "source": [
        "# Función para verificar si una URL es válida\n",
        "def is_valid_url(url):\n",
        "    parsed_url = urlparse(url)\n",
        "    return bool(parsed_url.scheme) and bool(parsed_url.netloc)\n",
        "\n",
        "# Generador de clave única para URLs en el diccionario\n",
        "def generate_key_from_url(url):\n",
        "    # Eliminar prefijos http:// o https://\n",
        "    url = re.sub(r\"https?://\", \"\", url)\n",
        "    # Eliminar \"www.\", \".com\", \".org\", \".net\", y otros TLDs comunes\n",
        "    url = re.sub(r\"(www\\.|\\.com|\\.org|\\.net|\\.co|\\.es|\\.gov|\\.edu)\", \"\", url)\n",
        "    # Reemplazar cualquier \"/\" por \"_\"\n",
        "    url = url.replace(\"/\", \"_\").strip()\n",
        "    return url\n",
        "\n",
        "# librerias para cara usuario\n",
        "user_libraries = {}\n",
        "\n",
        "# Función para procesar las URLs y generar el diccionario\n",
        "def process_urls(urls, chat_id):\n",
        "    library = {}\n",
        "    for url in urls:\n",
        "        url = url.strip()\n",
        "        if not is_valid_url(url):\n",
        "            send_messages(chat_id, f\"❌ La URL '{url}' no es válida. Por favor, ingresa una URL válida.\")\n",
        "            continue\n",
        "\n",
        "        try:\n",
        "            key = generate_key_from_url(url)  # Generador de clave única para URLs en el diccionario\n",
        "            texto_crudo = get_text_html(url)  # Extrae el texto de una página web\n",
        "            texto_limpio = text_clean(texto_crudo)  # Función para limpiar texto\n",
        "            texto_depurado = clean_news_text(texto_limpio)  # Función para limpiar noticias\n",
        "            library[key] = texto_depurado\n",
        "        except Exception as e:\n",
        "            send_messages(chat_id, f\"Error procesando la URL {url}: {e}\")\n",
        "\n",
        "    if library:\n",
        "        user_libraries[chat_id] = library  # Almacenar `library` en el diccionario de `user_libraries`\n",
        "\n",
        "        for key, value in library.items():\n",
        "            response = f\"Clave: {key}\\nContenido:\\n\" + \"\\n\".join(value[:5])  # Limitar a 5 líneas\n",
        "            send_messages(chat_id, response)"
      ],
      "metadata": {
        "id": "vYgGgE_etP2E"
      },
      "execution_count": null,
      "outputs": []
    },
    {
      "cell_type": "markdown",
      "source": [
        "## Generacio de resumenes a partir de la opción escogida"
      ],
      "metadata": {
        "id": "v13rlSVktZBc"
      }
    },
    {
      "cell_type": "code",
      "source": [
        "# Función para generar el resumen con Hugging Face\n",
        "def generate_summary_huggingface(text):\n",
        "    try:\n",
        "        summary = pipe(text)\n",
        "        return summary[0]['summary_text']\n",
        "    except Exception as e:\n",
        "        return f\"Error al generar el resumen con Hugging Face: {e}\"\n",
        "\n",
        "\n",
        "# Función para generar el resumen con OpenAI\n",
        "def generate_summary_openai(prompt):\n",
        "    response = client.chat.completions.create(\n",
        "        model=\"gpt-3.5-turbo\",\n",
        "        messages=[{\"role\": \"system\", \"content\": \"Eres un experto en noticias de actualidad.\"},\n",
        "                  {\"role\": \"user\", \"content\": prompt}],\n",
        "        max_tokens=150,\n",
        "        temperature=0.1\n",
        "    )\n",
        "    return response[\"choices\"][0][\"message\"][\"content\"]\n",
        "     #return response.choices[0].message.content\n",
        "\n",
        "\n",
        "# Función para elegir el tipo de resumen\n",
        "def ask_for_summary_option(chat_id):\n",
        "    send_messages(chat_id, \"Por favor, elige el tipo de resumen:\\n\"\n",
        "                            \"1. **Resumen con Hugging Face (BART)**\\n\"\n",
        "                            \"2. **Resumen con OpenAI (GPT)**\\n\"\n",
        "                            \"Escribe 1 o 2 para elegir una opción.\")\n",
        "\n",
        "# Función para procesar el resumen basado en la opción seleccionada\n",
        "def process_summary_choice(choice, chat_id):\n",
        "    if chat_id not in user_libraries:\n",
        "        send_messages(chat_id, \"❌ No hay contenido para resumir. Asegúrate de haber procesado URLs primero.\")\n",
        "        return {}\n",
        "\n",
        "    library = user_libraries[chat_id]  # Obtener el `library` para el usuario\n",
        "    summary_library = {}  # Nuevo diccionario para almacenar los resúmenes\n",
        "\n",
        "    for key, texto in library.items():\n",
        "        if not texto:\n",
        "            send_messages(chat_id, f\"⚠️ No hay contenido para resumir en '{key}'.\")\n",
        "            continue\n",
        "\n",
        "        if choice == \"1\":\n",
        "            summary = generate_summary_huggingface(texto)\n",
        "        elif choice == \"2\":\n",
        "            summary = generate_summary_openai(texto)\n",
        "        else:\n",
        "            send_messages(chat_id, \"❌ Opción no válida. Por favor, selecciona 1 o 2.\")\n",
        "            return {}\n",
        "\n",
        "        summary_library[key] = summary  # Guardar el resumen en el nuevo diccionario\n",
        "        send_messages(chat_id, f\"🔹 Resumen para '{key}':\\n{summary}\")\n",
        "\n",
        "    return summary_library  # Retornar el nuevo diccionario con los resúmenes"
      ],
      "metadata": {
        "id": "sAEgt_cUtYEv"
      },
      "execution_count": null,
      "outputs": []
    },
    {
      "cell_type": "markdown",
      "source": [
        "## Ruta para interactuar con el bot"
      ],
      "metadata": {
        "id": "Umch7mEKtqFV"
      }
    },
    {
      "cell_type": "code",
      "source": [
        "def main():\n",
        "    print(\"Bot iniciado...\")\n",
        "    offset = None\n",
        "    while True:\n",
        "        try:\n",
        "            updates = get_updates(offset)\n",
        "            for update in updates:\n",
        "                offset = update[\"update_id\"] + 1\n",
        "                if \"message\" in update:\n",
        "                    chat_id = update[\"message\"][\"chat\"][\"id\"]\n",
        "                    text = update[\"message\"].get(\"text\", \"\")\n",
        "\n",
        "                    # Verificar si el mensaje contiene \"/start\"\n",
        "                    if text.startswith(\"/start\"):\n",
        "                        send_welcome_message(chat_id)  # Enviar el mensaje de bienvenida cuando el usuario envíe /start\n",
        "                    elif text.startswith(\"http\") or text.startswith(\"www\"):\n",
        "                        urls = text.split(\",\")  # Dividir las URLs que el usuario ingrese\n",
        "                        process_urls(urls, chat_id)  # Procesar las URLs enviadas por el usuario\n",
        "                        ask_for_summary_option(chat_id)  # Preguntar por el tipo de resumen\n",
        "                    elif text == \"1\" or text == \"2\":\n",
        "                        process_summary_choice(text, chat_id)  # Pasar el `chat_id` a la función para resumir\n",
        "                    else:\n",
        "                        # Esta es una opción extra si quieres darle al usuario algo más cuando escriba texto diferente\n",
        "                        send_messages(chat_id, \"🌐 Envíame una URL para procesar o usa /start para comenzar.\")\n",
        "        except Exception as e:\n",
        "            print(f\"Error en el loop principal: {e}\")"
      ],
      "metadata": {
        "id": "oBO1t4UJ9-L2"
      },
      "execution_count": null,
      "outputs": []
    },
    {
      "cell_type": "markdown",
      "source": [
        "# Datos iniciales"
      ],
      "metadata": {
        "id": "6cdKD233uPcc"
      }
    },
    {
      "cell_type": "code",
      "source": [
        "# Código de interacción con telegram\n",
        "\n",
        "TOKEN = 'My_token_Telegram'  # Reemplaza con tu token real de Telegram\n",
        "URL_BASE = f\"https://api.telegram.org/bot{TOKEN}/\"\n",
        "\n",
        "# Código de interacción con OpenAI\n",
        "client = openai.OpenAI(api_key=\"My_Token_OpenAI\")  # Reemplaza con tu clave de API de OpenAI\n"
      ],
      "metadata": {
        "id": "mkJGSnMhsl81"
      },
      "execution_count": null,
      "outputs": []
    },
    {
      "cell_type": "markdown",
      "source": [
        "# Inicio del bot"
      ],
      "metadata": {
        "id": "ivVbQEcXuabV"
      }
    },
    {
      "cell_type": "code",
      "source": [
        "if __name__ == \"__main__\":\n",
        "    main()\n"
      ],
      "metadata": {
        "colab": {
          "base_uri": "https://localhost:8080/"
        },
        "id": "PLO84wvXtwDS",
        "outputId": "299619b8-d303-40d5-d0b1-2253853d8973"
      },
      "execution_count": null,
      "outputs": [
        {
          "output_type": "stream",
          "name": "stdout",
          "text": [
            "Bot iniciado...\n"
          ]
        }
      ]
    }
  ],
  "metadata": {
    "colab": {
      "provenance": [],
      "authorship_tag": "ABX9TyPlvFziApZR8Y2fLhbz5Tb1",
      "include_colab_link": true
    },
    "kernelspec": {
      "display_name": "Python 3",
      "name": "python3"
    },
    "language_info": {
      "name": "python"
    }
  },
  "nbformat": 4,
  "nbformat_minor": 0
}